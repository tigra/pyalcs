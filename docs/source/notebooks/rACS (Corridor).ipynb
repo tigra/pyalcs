{
 "cells": [
  {
   "cell_type": "code",
   "execution_count": 1,
   "metadata": {},
   "outputs": [],
   "source": [
    "# Logger\n",
    "import logging\n",
    "logging.basicConfig(level=logging.INFO)\n",
    "\n",
    "# Import local paths\n",
    "import sys, os\n",
    "sys.path.append(os.path.abspath('../../..'))\n",
    "sys.path.append(os.path.abspath('../../../../openai-envs'))\n",
    "\n",
    "# Enable automatic module reload\n",
    "%load_ext autoreload\n",
    "%autoreload 2\n",
    "\n",
    "# Load PyALCS module\n",
    "from lcs.agents import EnvironmentAdapter\n",
    "from lcs.agents.acs2 import ACS2, Configuration, ClassifiersList\n",
    "\n",
    "# Load environments\n",
    "import gym\n",
    "import gym_corridor"
   ]
  },
  {
   "cell_type": "markdown",
   "metadata": {},
   "source": [
    "# Corridor\n",
    "\n",
    "Actions:\n",
    "\n",
    "    MOVE_LEFT = 0\n",
    "    MOVE_RIGHT = 1\n"
   ]
  },
  {
   "cell_type": "code",
   "execution_count": 2,
   "metadata": {},
   "outputs": [],
   "source": [
    "class CorridorAdapter(EnvironmentAdapter):\n",
    "    @staticmethod\n",
    "    def to_genotype(phenotype):\n",
    "        return phenotype,"
   ]
  },
  {
   "cell_type": "code",
   "execution_count": 3,
   "metadata": {},
   "outputs": [],
   "source": [
    "cfg = Configuration(\n",
    "        classifier_length=1,\n",
    "        number_of_possible_actions=2,\n",
    "        epsilon=1.0,\n",
    "        beta=0.05,\n",
    "        gamma=0.95,\n",
    "        theta_exp=50,\n",
    "        theta_ga=50,\n",
    "        do_ga=True,\n",
    "        mu=0.03,\n",
    "        u_max=1,\n",
    "        metrics_trial_frequency=20,\n",
    "        environment_adapter=CorridorAdapter)"
   ]
  },
  {
   "cell_type": "code",
   "execution_count": 4,
   "metadata": {},
   "outputs": [],
   "source": [
    "def print_simple_stats(population, metrics):\n",
    "    pop_size = len(population)\n",
    "    \n",
    "    # avg step in trial\n",
    "    steps = []\n",
    "    for m in metrics:\n",
    "        steps.append(m['steps_in_trial'])\n",
    "\n",
    "    print(f\"Population of {pop_size}, avg steps {sum(steps)/len(steps)}\")     "
   ]
  },
  {
   "cell_type": "markdown",
   "metadata": {},
   "source": [
    "## Corridor 20"
   ]
  },
  {
   "cell_type": "markdown",
   "metadata": {},
   "source": [
    "### Exploration"
   ]
  },
  {
   "cell_type": "code",
   "execution_count": 5,
   "metadata": {},
   "outputs": [],
   "source": [
    "corridor = gym.make('corridor-20-v0')"
   ]
  },
  {
   "cell_type": "code",
   "execution_count": 6,
   "metadata": {},
   "outputs": [
    {
     "name": "stderr",
     "output_type": "stream",
     "text": [
      "INFO:lcs.agents.Agent:{'trial': 0, 'steps_in_trial': 33, 'reward': 1000}\n",
      "INFO:lcs.agents.Agent:{'trial': 100, 'steps_in_trial': 200, 'reward': 0}\n",
      "INFO:lcs.agents.Agent:{'trial': 200, 'steps_in_trial': 200, 'reward': 0}\n",
      "INFO:lcs.agents.Agent:{'trial': 300, 'steps_in_trial': 200, 'reward': 0}\n",
      "INFO:lcs.agents.Agent:{'trial': 400, 'steps_in_trial': 60, 'reward': 1000}\n",
      "INFO:lcs.agents.Agent:{'trial': 500, 'steps_in_trial': 200, 'reward': 0}\n",
      "INFO:lcs.agents.Agent:{'trial': 600, 'steps_in_trial': 200, 'reward': 0}\n",
      "INFO:lcs.agents.Agent:{'trial': 700, 'steps_in_trial': 103, 'reward': 1000}\n",
      "INFO:lcs.agents.Agent:{'trial': 800, 'steps_in_trial': 200, 'reward': 0}\n",
      "INFO:lcs.agents.Agent:{'trial': 900, 'steps_in_trial': 200, 'reward': 0}\n"
     ]
    },
    {
     "name": "stdout",
     "output_type": "stream",
     "text": [
      "CPU times: user 39.1 s, sys: 46.8 ms, total: 39.1 s\n",
      "Wall time: 39.5 s\n"
     ]
    }
   ],
   "source": [
    "%%time\n",
    "agent = ACS2(cfg)\n",
    "population, metrics = agent.explore(corridor, 1000)"
   ]
  },
  {
   "cell_type": "code",
   "execution_count": 7,
   "metadata": {},
   "outputs": [
    {
     "name": "stdout",
     "output_type": "stream",
     "text": [
      "Population of 38, avg steps 142.94\n"
     ]
    }
   ],
   "source": [
    "print_simple_stats(population, metrics)"
   ]
  },
  {
   "cell_type": "code",
   "execution_count": 8,
   "metadata": {},
   "outputs": [
    {
     "data": {
      "text/plain": [
       "[19 1 20               (empty)               q: 1.0   r: 1e+03  ir: 1e+03  f: 1e+03  exp: 567 tga: 129202 talp: 129204 tav: 2.2e+02 num: 19,\n",
       " 18 1 19               (empty)               q: 1.0   r: 950.0  ir: 0.0    f: 950.0  exp: 1089 tga: 129179 talp: 129204 tav: 88.5   num: 19,\n",
       " 17 1 18               (empty)               q: 1.0   r: 902.5  ir: 0.0    f: 902.5  exp: 1566 tga: 129178 talp: 129201 tav: 76.3   num: 19,\n",
       " 19 0 18               (empty)               q: 1.0   r: 902.0  ir: 0.0    f: 902.0  exp: 567 tga: 129180 talp: 129195 tav: 1.83e+02 num: 19,\n",
       " 16 1 17               (empty)               q: 1.0   r: 857.3  ir: 0.0    f: 857.3  exp: 1994 tga: 129177 talp: 129200 tav: 59.6   num: 19]"
      ]
     },
     "execution_count": 8,
     "metadata": {},
     "output_type": "execute_result"
    }
   ],
   "source": [
    "sorted(population, key=lambda cl: -cl.fitness)[:5]"
   ]
  },
  {
   "cell_type": "markdown",
   "metadata": {},
   "source": [
    "### Exploitation"
   ]
  },
  {
   "cell_type": "code",
   "execution_count": 9,
   "metadata": {},
   "outputs": [
    {
     "name": "stderr",
     "output_type": "stream",
     "text": [
      "INFO:lcs.agents.Agent:{'trial': 0, 'steps_in_trial': 21, 'reward': 1000}\n"
     ]
    },
    {
     "name": "stdout",
     "output_type": "stream",
     "text": [
      "CPU times: user 475 ms, sys: 0 ns, total: 475 ms\n",
      "Wall time: 482 ms\n"
     ]
    }
   ],
   "source": [
    "%%time\n",
    "agent = ACS2(cfg, population)\n",
    "pop_exploit, metric_exploit = agent.exploit(corridor, 100)"
   ]
  },
  {
   "cell_type": "code",
   "execution_count": 10,
   "metadata": {},
   "outputs": [
    {
     "name": "stdout",
     "output_type": "stream",
     "text": [
      "Population of 38, avg steps 14.4\n"
     ]
    }
   ],
   "source": [
    "print_simple_stats(pop_exploit, metric_exploit)"
   ]
  },
  {
   "cell_type": "code",
   "execution_count": 11,
   "metadata": {},
   "outputs": [
    {
     "data": {
      "text/plain": [
       "[19 1 20               (empty)               q: 1.0   r: 1e+03  ir: 1e+03  f: 1e+03  exp: 567 tga: 129202 talp: 129204 tav: 2.2e+02 num: 19,\n",
       " 18 1 19               (empty)               q: 1.0   r: 950.0  ir: 0.0    f: 950.0  exp: 1089 tga: 129179 talp: 129204 tav: 88.5   num: 19,\n",
       " 17 1 18               (empty)               q: 1.0   r: 902.5  ir: 0.0    f: 902.5  exp: 1566 tga: 129178 talp: 129201 tav: 76.3   num: 19,\n",
       " 19 0 18               (empty)               q: 1.0   r: 902.2  ir: 0.0    f: 902.2  exp: 567 tga: 129180 talp: 129195 tav: 1.83e+02 num: 19,\n",
       " 16 1 17               (empty)               q: 1.0   r: 857.4  ir: 0.0    f: 857.4  exp: 1994 tga: 129177 talp: 129200 tav: 59.6   num: 19]"
      ]
     },
     "execution_count": 11,
     "metadata": {},
     "output_type": "execute_result"
    }
   ],
   "source": [
    "sorted(pop_exploit, key=lambda cl: -cl.fitness)[:5]"
   ]
  },
  {
   "cell_type": "code",
   "execution_count": null,
   "metadata": {},
   "outputs": [],
   "source": []
  }
 ],
 "metadata": {
  "kernelspec": {
   "display_name": "Python 3",
   "language": "python",
   "name": "python3"
  },
  "language_info": {
   "codemirror_mode": {
    "name": "ipython",
    "version": 3
   },
   "file_extension": ".py",
   "mimetype": "text/x-python",
   "name": "python",
   "nbconvert_exporter": "python",
   "pygments_lexer": "ipython3",
   "version": "3.7.3"
  }
 },
 "nbformat": 4,
 "nbformat_minor": 2
}
